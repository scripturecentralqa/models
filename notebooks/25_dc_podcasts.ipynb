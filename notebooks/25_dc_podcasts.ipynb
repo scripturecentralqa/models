{
 "cells": [
  {
   "cell_type": "markdown",
   "id": "0ed2304b",
   "metadata": {},
   "source": [
    "# Crawl, load, and split D&C podcasts from the Church of Jesus Christ of Latter-day Saints"
   ]
  },
  {
   "cell_type": "code",
   "execution_count": null,
   "id": "7fe5bf12",
   "metadata": {},
   "outputs": [],
   "source": [
    "%load_ext autoreload\n",
    "%autoreload 2\n",
    "%load_ext dotenv\n",
    "%dotenv"
   ]
  },
  {
   "cell_type": "code",
   "execution_count": null,
   "id": "4bca89a2",
   "metadata": {},
   "outputs": [],
   "source": [
    "from datetime import datetime\n",
    "import json\n",
    "import os\n",
    "from typing import Iterator\n",
    "from urllib.parse import urljoin, urlparse\n",
    "\n",
    "from bs4 import BeautifulSoup, Tag\n",
    "from tqdm import tqdm\n",
    "\n",
    "from models.crawl_utils import get_page, save_page\n",
    "from models.load_dc_podcasts import load_dc_podcasts\n",
    "from models.load_utils import Loader, load_docs_from_jsonl, save_docs_to_jsonl\n",
    "from models.split_model import MarkdownSyntacticEmbeddingSplitter"
   ]
  },
  {
   "cell_type": "markdown",
   "id": "91ece895",
   "metadata": {},
   "source": [
    "## Crawl"
   ]
  },
  {
   "cell_type": "code",
   "execution_count": null,
   "id": "e753397e",
   "metadata": {},
   "outputs": [],
   "source": [
    "# config\n",
    "host = 'https://doctrineandcovenantscentral.org/church-history-matters-podcast/'\n",
    "source = 'dc_podcasts'  # use this name in the directories\n",
    "crawl_dir = f'../data/raw/{source}'  # base_dir is now crawl_dir\n",
    "bs_parser = 'html.parser'\n",
    "delay_seconds = 5\n",
    "\n",
    "if not os.path.exists(crawl_dir):\n",
    "    os.makedirs(crawl_dir)\n",
    "    "
   ]
  },
  {
   "cell_type": "code",
   "execution_count": null,
   "id": "9225f0f2",
   "metadata": {},
   "outputs": [],
   "source": [
    "def extract_series_hrefs(host, html):\n",
    "    hrefs = []\n",
    "\n",
    "    # Parse the HTML content using BeautifulSoup\n",
    "    soup = BeautifulSoup(html, 'html.parser')\n",
    "\n",
    "    # Find all div tags with the class 'views-field-title'\n",
    "    link_tags = soup.find_all('div', {'data-column-clickable': True})\n",
    "\n",
    "    # Extract href attribute from each anchor tag and append to the list\n",
    "    for link in link_tags:\n",
    "        href = link.get('data-column-clickable')\n",
    "        if href:\n",
    "            if href.startswith(host):\n",
    "                path_components = urlparse(href).path.split('/')\n",
    "                # print(path_components)\n",
    "                if len(path_components) == 3:\n",
    "                    if not href in hrefs:\n",
    "                        hrefs.append(href)\n",
    "\n",
    "    return hrefs"
   ]
  },
  {
   "cell_type": "code",
   "execution_count": null,
   "id": "8861659b-9805-45a3-a931-cfb74a293949",
   "metadata": {},
   "outputs": [],
   "source": [
    "def extract_links(host, html):\n",
    "    hrefs = []\n",
    "\n",
    "    # Parse the HTML content using BeautifulSoup\n",
    "    soup = BeautifulSoup(html, 'html.parser')\n",
    "\n",
    "    # Find all div tags with the class 'views-field-title'\n",
    "    link_tags = soup.find_all('div', {'data-column-clickable': True})\n",
    "\n",
    "    # Extract href attribute from each anchor tag and append to the list\n",
    "    for link in link_tags:\n",
    "        href = link.get('data-column-clickable')\n",
    "        if href:\n",
    "            if href.startswith(host):\n",
    "                hrefs.append(href)\n",
    "                # path_components = urlparse(href).path.split('/')\n",
    "                # print(path_components)\n",
    "                # if len(path_components) == 4:\n",
    "                #    if not href in hrefs:\n",
    "                #        hrefs.append(href)\n",
    "\n",
    "    return hrefs"
   ]
  },
  {
   "cell_type": "code",
   "execution_count": null,
   "id": "8aa4938c",
   "metadata": {},
   "outputs": [],
   "source": [
    "def get_path(url):\n",
    "    path_components = urlparse(url).path.split('/')\n",
    "    # print(path_components)\n",
    "    return os.path.join(crawl_dir, f\"{path_components[-1]}.json\")"
   ]
  },
  {
   "cell_type": "code",
   "execution_count": null,
   "id": "c1a33cd1",
   "metadata": {},
   "outputs": [],
   "source": [
    "status_code, html = get_page(host, delay_seconds)\n",
    "if status_code != 200:\n",
    "    print(\"Error!\", status_code)\n",
    "series_hrefs = extract_series_hrefs(host, html)\n",
    "print(series_hrefs[:5])\n",
    "len(series_hrefs)"
   ]
  },
  {
   "cell_type": "code",
   "execution_count": null,
   "id": "dbd1b4ea",
   "metadata": {},
   "outputs": [],
   "source": [
    "dc_podcasts_pages = []\n",
    "\n",
    "for series_link in series_hrefs:\n",
    "    status_code, html = get_page(series_link, delay_seconds)\n",
    "    if status_code != 200:\n",
    "        print(\"Error!\", status_code)\n",
    "    episodes_hrefs = extract_links(host, html)\n",
    "    print(series_link, len(episodes_hrefs), episodes_hrefs[:3])\n",
    "    if len(episodes_hrefs) != 0:\n",
    "        dc_podcasts_pages.extend(episodes_hrefs)\n",
    "    \n",
    "print(dc_podcasts_pages[:5])\n",
    "len(dc_podcasts_pages)"
   ]
  },
  {
   "cell_type": "code",
   "execution_count": null,
   "id": "16b0258d",
   "metadata": {},
   "outputs": [],
   "source": [
    "for url in dc_podcasts_pages:\n",
    "    if url.endswith('/'):\n",
    "        url = url[:-1]\n",
    "    path_file =  get_path(url)\n",
    "    print(path_file)\n",
    "    if os.path.exists(path_file):\n",
    "        continue\n",
    "    status_code, html = get_page(url, delay_seconds)\n",
    "    if status_code != 200:\n",
    "        print(\"Error!\", status_code , url)\n",
    "        continue\n",
    "    \n",
    "    save_page(path_file,url,html)\n",
    "    \n",
    "print(\"End\")"
   ]
  },
  {
   "cell_type": "markdown",
   "id": "90af220c",
   "metadata": {},
   "source": [
    "## Load"
   ]
  },
  {
   "cell_type": "code",
   "execution_count": null,
   "id": "4399a0c9",
   "metadata": {},
   "outputs": [],
   "source": [
    "# config\n",
    "# input_dir is now crawl_dir, and output_dir is now load_dir, and output_filename is now load_filename\n",
    "load_dir = f'../data/load/{source}/'\n",
    "today = datetime.today().strftime('%Y-%m-%d')\n",
    "load_filename = os.path.join(load_dir, f\"{today}.jsonl\")\n",
    "\n",
    "if not os.path.exists(load_dir):\n",
    "    os.makedirs(load_dir)"
   ]
  },
  {
   "cell_type": "code",
   "execution_count": null,
   "id": "2cc10596",
   "metadata": {},
   "outputs": [],
   "source": [
    "loader = Loader(load_dc_podcasts, crawl_dir)\n",
    "docs = loader.load(verbose=True)\n",
    "len(docs)"
   ]
  },
  {
   "cell_type": "code",
   "execution_count": null,
   "id": "b8755943",
   "metadata": {},
   "outputs": [],
   "source": [
    "print(\"metadata: \", docs[0].metadata)\n",
    "print()\n",
    "print(\"content: \", docs[0].page_content)"
   ]
  },
  {
   "cell_type": "code",
   "execution_count": null,
   "id": "486c3f00",
   "metadata": {},
   "outputs": [],
   "source": [
    "save_docs_to_jsonl(docs, load_filename)"
   ]
  },
  {
   "cell_type": "markdown",
   "id": "c9c4ec07",
   "metadata": {},
   "source": [
    "## Split"
   ]
  },
  {
   "cell_type": "code",
   "execution_count": null,
   "id": "b1d47019",
   "metadata": {},
   "outputs": [],
   "source": [
    "# configure\n",
    "# input_path is now load_filename, output_dir is now split_dir, and output filename is now split_filename\n",
    "split_dir = f'../data/split/{source}/'\n",
    "today = datetime.today().strftime('%Y-%m-%d')\n",
    "# output filename is now split_filename\n",
    "split_filename = os.path.join(split_dir, f\"{today}.jsonl\")\n",
    "\n",
    "if not os.path.exists(split_dir):\n",
    "    os.makedirs(split_dir)"
   ]
  },
  {
   "cell_type": "code",
   "execution_count": null,
   "id": "d40ff1fb",
   "metadata": {},
   "outputs": [],
   "source": [
    "docs = load_docs_from_jsonl(load_filename)\n",
    "len(docs)"
   ]
  },
  {
   "cell_type": "code",
   "execution_count": null,
   "id": "2e40b8c7",
   "metadata": {},
   "outputs": [],
   "source": [
    "text_splitter = MarkdownSyntacticEmbeddingSplitter()"
   ]
  },
  {
   "cell_type": "code",
   "execution_count": null,
   "id": "2d26d2e3",
   "metadata": {},
   "outputs": [],
   "source": [
    "splits = text_splitter.split_documents(docs, verbose=True)\n",
    "len(splits)"
   ]
  },
  {
   "cell_type": "code",
   "execution_count": null,
   "id": "da9a292c",
   "metadata": {},
   "outputs": [],
   "source": [
    "for ix, split in enumerate(splits[:10]):\n",
    "    print(ix, split.metadata)\n",
    "    print(split.page_content)\n",
    "    print(\"\\n!!! SPLIT !!!\\n\")"
   ]
  },
  {
   "cell_type": "code",
   "execution_count": null,
   "id": "56bb464e",
   "metadata": {},
   "outputs": [],
   "source": [
    "save_docs_to_jsonl(splits, split_filename)"
   ]
  },
  {
   "cell_type": "code",
   "execution_count": null,
   "id": "9c49eaf4-677e-439c-8d9e-0e494b1d3c4e",
   "metadata": {},
   "outputs": [],
   "source": []
  }
 ],
 "metadata": {
  "kernelspec": {
   "display_name": "models-ygscW1cR-py3.10",
   "language": "python",
   "name": "python3"
  },
  "language_info": {
   "codemirror_mode": {
    "name": "ipython",
    "version": 3
   },
   "file_extension": ".py",
   "mimetype": "text/x-python",
   "name": "python",
   "nbconvert_exporter": "python",
   "pygments_lexer": "ipython3",
   "version": "3.10.0"
  }
 },
 "nbformat": 4,
 "nbformat_minor": 5
}
