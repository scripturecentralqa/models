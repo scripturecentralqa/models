{
 "cells": [
  {
   "cell_type": "markdown",
   "id": "936d02dd",
   "metadata": {},
   "source": [
    "# Load Evidence Central\n",
    "\n",
    "Convert Evidence central content from raw HTML to markdown format and extract key information. Write evidence central in JSONL format."
   ]
  },
  {
   "cell_type": "code",
   "execution_count": 1,
   "id": "7fe5bf12",
   "metadata": {},
   "outputs": [],
   "source": [
    "%load_ext autoreload\n",
    "%autoreload 2"
   ]
  },
  {
   "cell_type": "code",
   "execution_count": 2,
   "id": "4bca89a2",
   "metadata": {},
   "outputs": [],
   "source": [
    "from datetime import datetime\n",
    "\n",
    "import os\n",
    "\n",
    "from models.load_evidence_central import EvidenceLoader\n",
    "from models.load_utils import save_docs_to_jsonl"
   ]
  },
  {
   "cell_type": "code",
   "execution_count": 3,
   "id": "e753397e",
   "metadata": {},
   "outputs": [],
   "source": [
    "# config\n",
    "input_dir = '../data/raw/evidence_central/'\n",
    "output_dir = '../data/load/evidence_central/'\n",
    "\n",
    "today = datetime.today().strftime('%Y-%m-%d')\n",
    "\n",
    "if not os.path.exists(output_dir):\n",
    "    os.makedirs(output_dir)"
   ]
  },
  {
   "cell_type": "code",
   "execution_count": 4,
   "id": "2f5ebfa4",
   "metadata": {},
   "outputs": [
    {
     "name": "stderr",
     "output_type": "stream",
     "text": [
      " 20%|██        | 1/5 [00:00<00:00,  6.04it/s]"
     ]
    },
    {
     "name": "stdout",
     "output_type": "stream",
     "text": [
      "{'url': 'https://evidencecentral.org/recency/evidence/without-a-cause', 'title': 'Book of Mormon Evidence: Omission of “Without a Cause”'}\n"
     ]
    },
    {
     "name": "stderr",
     "output_type": "stream",
     "text": [
      " 40%|████      | 2/5 [00:00<00:00,  3.63it/s]"
     ]
    },
    {
     "name": "stdout",
     "output_type": "stream",
     "text": [
      "{'url': 'https://evidencecentral.org/recency/evidence/a-classic', 'title': 'Book of Mormon Evidence: A Classic'}\n"
     ]
    },
    {
     "name": "stderr",
     "output_type": "stream",
     "text": [
      " 80%|████████  | 4/5 [00:01<00:00,  4.00it/s]"
     ]
    },
    {
     "name": "stdout",
     "output_type": "stream",
     "text": [
      "{'url': 'https://evidencecentral.org/recency/evidence/and-behold', 'title': 'Book of Mormon Evidence: “And Behold”'}\n",
      "{'url': 'https://evidencecentral.org/recency/evidence/make-a-record', 'title': 'Book of Mormon Evidence: “Make a Record”'}\n"
     ]
    },
    {
     "name": "stderr",
     "output_type": "stream",
     "text": [
      "100%|██████████| 5/5 [00:01<00:00,  3.77it/s]"
     ]
    },
    {
     "name": "stdout",
     "output_type": "stream",
     "text": [
      "{'url': 'https://evidencecentral.org/recency/evidence/this-day', 'title': 'Book of Mormon Evidence: “This Day”'}\n"
     ]
    },
    {
     "name": "stderr",
     "output_type": "stream",
     "text": [
      "\n"
     ]
    },
    {
     "data": {
      "text/plain": [
       "5"
      ]
     },
     "execution_count": 4,
     "metadata": {},
     "output_type": "execute_result"
    }
   ],
   "source": [
    "loader = EvidenceLoader(input_dir)\n",
    "docs = loader.load(verbose=True)\n",
    "len(docs)"
   ]
  },
  {
   "cell_type": "code",
   "execution_count": 5,
   "id": "866cf548-c85d-4b2c-b87b-01fae593598b",
   "metadata": {},
   "outputs": [
    {
     "name": "stdout",
     "output_type": "stream",
     "text": [
      "{'url': 'https://evidencecentral.org/recency/evidence/without-a-cause', 'title': 'Book of Mormon Evidence: Omission of “Without a Cause”'}\n",
      "[\n",
      "\n",
      "![Christ delivering the Sermon on the Mount. Image via churchofjesuschrist.org.](/api/attachments/1959/thumbnail/w760)\n",
      "Christ delivering the Sermon on the Mount. Image via churchofjesuschrist.org.\n",
      "\n",
      "---\n",
      "\n",
      "## ABSTRACT\n",
      "\n",
      "The omission of the phrase “without a cause” in Christ’s Sermon at the Temple in 3 Nephi finds support in early New Testament manuscripts and modern biblical scholarship.\n",
      "\n",
      "---\n",
      "\n",
      "##### EVIDENCE SUMMARY\n",
      "\n",
      "When the resurrected Jesus visited the people of Nephi at the temple in Bountiful, he gave them a version of the Sermon on the Mount which he taught during his mortal ministry ([Matthew 5–7](https://abn.churchofjesuschrist.org/study/scriptures/nt/matt/5.1?lang=eng#p1); [3 Nephi 12–14](https://abn.churchofjesuschrist.org/study/scriptures/bofm/3-ne/12.1?lang=eng#p1)). While the wording is very similar in both texts, they also contain some differences, as noted in an important study by John W. Welch.[1](#n1) One discrepancy is especially noteworthy.\n",
      "\n",
      "In the King James Version of the Gospel of Matthew, Jesus taught: “But I say unto you, That whosoever is angry with his brother **without a cause** (*eikēi* ) shall be in danger of the judgment” ([Matthew 5:21–22](https://abn.churchofjesuschrist.org/study/scriptures/nt/matt/5.21-22?lang=eng#p21)). In contrast, the record of Jesus’ words to the Nephites omits the phrase “without a cause” ([3 Nephi 12:22](https://abn.churchofjesuschrist.org/study/scriptures/bofm/3-ne/12.22?lang=eng#p22)).[2](#n2)\n",
      "\n",
      "**Evidence from New Testament Manuscripts**\n",
      "\n",
      "Interestingly, this same omission can be found in some early New Testament manuscripts. Welch observes:\n",
      "\n",
      "While lacking unanimous consensus in the early manuscripts of the Sermon on the Mount (which is not unusual), the absence of the phrase “without a cause” is evidenced by the following manuscripts: *p*64, *p*67, Sinaiticus (original hand), Vaticanus, some minuscules, the Latin Vulgate (Jerome mentions that it was not found in the oldest manuscripts known to him), the Ethiopic texts, the Gospel of the Nazarenes, Justin, Tertullian, Origen, and others.[3](#n3)\n",
      "\n",
      "Thus, this passage may not have originally implied that anger is justifiable in some circumstances, as the phrase “without a cause” would suggest.\n",
      "\n",
      "![](/api/attachments/1960/download)\n",
      "Early mauscript fragment of the Gospel of Matthew (Papyrus 104). Image via Wikimedia Commons.\n",
      "\n",
      "**A Misunderstood Idiom**\n",
      "\n",
      "In his study on this topic, P. Wernberg-Moller argues that “without a cause” (*eikēi*) was original to the Greek text, but that it reflects a misunderstanding of an Aramaic idiom, from which it was derived. As described by Wernberg-Moller, “The Greek translator, then, followed the Aramaic ground text word for word, without being aware, however, that by a slavish rendering of the Aramaic idiom as *eikēi*, the original categorical saying was turned into a conditional one which made allowance for anger in some circumstances.”[4](#n4)\n",
      "\n",
      "![](/api/attachments/1961/download)\n",
      "The front side of Papyrus 37, a New Testament manuscript of the Gospel of Matthew. Image and caption info via Wikimedia Commons.\n",
      "\n",
      "The omission of the phrase in many New Testament manuscripts can be accounted for by assuming that a later scribe “recognized the Semitic idiom behind the saying in its Greek form, or because he felt that the Greek text with the reading *eikēi* unsuitably weakened the categorical denunciation of anger originally intended by our Lord.”[5](#n5)\n",
      "\n",
      "**Conclusion**\n",
      "\n",
      "The above evidence supports the version of Christ’s statements found in the Book of Mormon, which omits the phrase “without a cause.” Unlike many variations in New Testament manuscripts, this one isn’t trivial.[6](#n6) As Welch concluded,\n",
      "\n",
      "In my estimation, this textual variant in favor of the Sermon at the Temple is very meaningful. The removal of without a cause has important moral, behavioral, psychological, and religious ramifications, as it is the main place where a significant textual change from the KJV was in fact needed and delivered.[7](#n7)\n",
      "\n",
      "This is now the predominate reading of Matthew 5:22, as rendered in most modern versions of the Bible.[8](#n8) It is unlikely, however, given Joseph Smith’s limited educational opportunities, that he would have known anything about the relevant variants in New Testament manuscripts of the Sermon on the Mount.[9](#n9) Moreover, Wernberg-Moller’s groundbreaking article explaining this issue was not published until 1956, more than 100 years after the Book of Mormon’s publication.\n",
      "\n",
      "---\n",
      "\n",
      "##### FURTHER READING\n",
      "\n",
      "John W. Welch, [*Illuminating the Sermon at the Temple and the Sermon on the Mount*](https://archive.bookofmormoncentral.org/content/sermon-temple-and-greek-new-testament-manuscripts) (Provo, UT: Foundation for Ancient Research and Mormon Studies, 1999), 199–210.\n",
      "\n",
      "Daniel K Judd and Allen W. Stoddard, “[Adding and Taking Away ‘Without a Cause’ in Matthew 5:22](https://rsc.byu.edu/how-new-testament-came-be/adding-taking-away-without-cause-matthew-522)” in *How the New Testament Came to Be: The Thirty-fifth Annual Sidney B. Sperry Symposium*, ed. Kent P. Jackson and Frank F. Judd Jr. (Provo and Salt Lake City, UT: BYU Religious Studies Center and Deseret Book, 2006), 157–174.\n",
      "\n",
      "#####  RELEVANT SCRIPTURES\n",
      "\n",
      "Bible\n",
      "\n",
      "[Matthew 5:22](https://abn.churchofjesuschrist.org/study/scriptures/nt/matt/5.22?lang=eng#p22)\n",
      "\n",
      "Book of Mormon\n",
      "\n",
      "[3 Nephi 12:22](https://abn.churchofjesuschrist.org/study/scriptures/bofm/3-ne/12.22?lang=eng#p22)\n",
      "\n",
      "#####\n",
      "\n",
      "---\n",
      "\n",
      "##### END NOTES\n",
      "\n",
      "[1](#p1) John W. Welch, [*Illuminating the Sermon at the Temple and the Sermon on the Mount*](https://archive.bookofmormoncentral.org/content/sermon-temple-and-greek-new-testament-manuscripts) (Provo, UT: Foundation for Ancient Research and Mormon Studies, 1999), 125–210.\n",
      "\n",
      "[2](#p2) See Royal Skousen, [*Analysis of Textual Variants of the Book of Mormon: Part Five, Alma 56–3 Nephi 18*](https://bookofmormoncentral.org/content/analysis-of-textual-variants-of-the-book-of-mormon), 6 vols. (Provo, UT: FARMS and Brigham Young University, 2014), 5:3368–3369. After drawing attention to this change, Skousen further notes that “in general, other textual differences between the Book of Mormon text and the King James version of the Sermon on the Mount are not supported by textual variants in the Greek New Testament text” (p. 3369).\n",
      "\n",
      "[3](#p3) Welch, [*Illuminating the Sermon at the Temple and the Sermon on the Mount*](https://archive.bookofmormoncentral.org/content/sermon-temple-and-greek-new-testament-manuscripts), 200. For a much more comprehensive list, see Daniel K. Judd and Allen W. Stoddard, “[Adding and Taking Away ‘Without a Cause’ in Matthew 5:22](https://rsc.byu.edu/how-new-testament-came-be/adding-taking-away-without-cause-matthew-522)” in *How the New Testament Came to Be: The Thirty-fifth Annual Sidney B. Sperry Symposium*, ed. Kent P. Jackson and Frank F. Judd Jr. (Provo and Salt Lake City, UT: BYU Religious Studies Center and Deseret Book, 2006), 160–165.\n",
      "\n",
      "[4](#p4) P. Wernberg-Moller, “A Semitic Idiom in Matt. V.22,” *New Testament Studies* 3, no. 1 (November 1956): 71–72.\n",
      "\n",
      "[5](#p5) Wernberg-Moller, “A Semitic Idiom in Matt. V.22,” 72.\n",
      "\n",
      "[6](#p6) As the prominent New Testament scholar, Bart Ehrman, stated, “Most of the hundreds of thousands of variations are of very little importance for anything, as most people—even specialists—would admit. Only a minority really matter.” See <https://ehrmanblog.org/fundamentalists-and-the-variants-in-our-manuscripts/>. Thus, we shouldn’t necessarily expect Christ’s statements in the Book of Mormon to adhere to every early manuscript variant. For the most part, the King James version can be assumed to substantively reflect the original meaning and intent of its authors. This is the very type of occasion—when a variant changes the fundamental meaning of both a passage and a doctrine concerning human behavior—that we might expect such an inspired change. For further discussion on this topic, see Bart D. Ehrman, *Lost Christianities: The Battles for Scripture and the Faiths We Never Knew* (New York, NY: Oxford University Press, 2003), 217–227. See also, Carol F. Ellertson, “[New Testament Manuscripts, Textual Families, and Variants](https://rsc.byu.edu/how-new-testament-came-be/new-testament-manuscripts-textual-families-variants)” in *How the New Testament Came to Be: The Thirty-fifth Annual Sidney B. Sperry Symposium*, ed. Kent P. Jackson and Frank F. Judd Jr. (Provo, UT: Religious Studies Center, Brigham Young University; Salt Lake City: Deseret Book, 2006), 93–108.\n",
      "\n",
      "[7](#p7) Welch, [*Illuminating the Sermon at the Temple and the Sermon on the Mount*](https://archive.bookofmormoncentral.org/content/sermon-temple-and-greek-new-testament-manuscripts), 201.\n",
      "\n",
      "[8](#p8) See <https://biblehub.com/matthew/5-22.htm>. See also, udd and Stoddard, “[Adding and Taking Away ‘Without a Cause’ in Matthew 5:22](https://rsc.byu.edu/how-new-testament-came-be/adding-taking-away-without-cause-matthew-522),” 157–174.\n",
      "\n",
      "[9](#p9) See Evidence Central, “[Book of Mormon Evidence: Joseph Smith’s Limited Education](https://evidencecentral.org/social-media/public/evidence_form/__parms__/te/117/class/evidence),” Evidence# 0001, September 19, 2020, online at evidencecentral.org.\n",
      "\n",
      "]\n"
     ]
    }
   ],
   "source": [
    "print(docs[0].metadata)\n",
    "print(docs[0].page_content)"
   ]
  },
  {
   "cell_type": "code",
   "execution_count": 6,
   "id": "7949104b-e0e2-42eb-aa9f-6140722a1d1b",
   "metadata": {},
   "outputs": [],
   "source": [
    "output_filename = os.path.join(output_dir, f\"{today}.jsonl\")\n",
    "\n",
    "save_docs_to_jsonl(docs, output_filename)\n"
   ]
  },
  {
   "cell_type": "code",
   "execution_count": null,
   "id": "a46812ca-3736-4296-b216-f6e3daf780a7",
   "metadata": {},
   "outputs": [],
   "source": []
  }
 ],
 "metadata": {
  "kernelspec": {
   "display_name": "models",
   "language": "python",
   "name": "models"
  },
  "language_info": {
   "codemirror_mode": {
    "name": "ipython",
    "version": 3
   },
   "file_extension": ".py",
   "mimetype": "text/x-python",
   "name": "python",
   "nbconvert_exporter": "python",
   "pygments_lexer": "ipython3",
   "version": "3.10.0"
  }
 },
 "nbformat": 4,
 "nbformat_minor": 5
}
