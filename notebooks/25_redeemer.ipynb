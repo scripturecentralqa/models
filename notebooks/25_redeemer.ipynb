{
 "cells": [
  {
   "cell_type": "markdown",
   "metadata": {},
   "source": [
    "# Crawl, Load and Split Redeemer of Israel from the Church of Jesus Christ of Latter-day Saints"
   ]
  },
  {
   "cell_type": "code",
   "execution_count": null,
   "metadata": {},
   "outputs": [],
   "source": [
    "%load_ext autoreload\n",
    "%autoreload 2\n",
    "%load_ext dotenv\n",
    "%dotenv"
   ]
  },
  {
   "cell_type": "code",
   "execution_count": null,
   "metadata": {},
   "outputs": [],
   "source": [
    "import os\n",
    "from urllib.parse import urljoin, urlparse\n",
    "\n",
    "from bs4 import BeautifulSoup\n",
    "import requests\n",
    "import time\n",
    "\n",
    "from models.crawl_utils import get_page, save_page\n",
    "\n",
    "from datetime import datetime\n",
    "\n",
    "from models.load_redeemer import load_redeemer\n",
    "\n",
    "from models.load_utils import Loader, load_docs_from_jsonl, save_docs_to_jsonl\n",
    "from models.split_model import MarkdownSyntacticEmbeddingSplitter"
   ]
  },
  {
   "cell_type": "code",
   "execution_count": null,
   "metadata": {},
   "outputs": [],
   "source": [
    "# config\n",
    "host = 'https://www.redeemerofisrael.org/sitemap.xml'\n",
    "source = 'redeemer_of_israel'  # use this name in the directories\n",
    "crawl_dir = f'../data/raw/{source}'  # base_dir is now crawl_dir\n",
    "bs_parser = 'html.parser'\n",
    "delay_seconds = 5\n",
    "\n",
    "if not os.path.exists(crawl_dir):\n",
    "    os.makedirs(crawl_dir)"
   ]
  },
  {
   "cell_type": "code",
   "execution_count": null,
   "metadata": {},
   "outputs": [],
   "source": [
    "def extract_links(xml_content):\n",
    "    #Parse the XML content using BeautifulSoup\n",
    "    soup = BeautifulSoup(xml_content, 'xml')\n",
    "\n",
    "    #Find all <loc> tags in the XML\n",
    "    loc_tags = soup.find_all('loc')\n",
    "\n",
    "    #Extract and store the text inside each <loc> tag\n",
    "    loc_texts = [loc.get_text() for loc in loc_tags]\n",
    "\n",
    "    return loc_texts"
   ]
  },
  {
   "cell_type": "code",
   "execution_count": null,
   "metadata": {},
   "outputs": [],
   "source": [
    "def get_path(url):\n",
    "    path_components = urlparse(url).path.split('/')\n",
    "    path = path_components[-1]\n",
    "    if path.endswith('.html'):\n",
    "        path = path[:-5]\n",
    "    # print(path_components)\n",
    "    return os.path.join(crawl_dir, f\"{path}.json\")"
   ]
  },
  {
   "cell_type": "code",
   "execution_count": null,
   "metadata": {},
   "outputs": [],
   "source": [
    "def get_sitemap(host):\n",
    "    headers = {\n",
    "        'Content-Type': 'text/xml',\n",
    "    }\n",
    "    response = requests.get(host, headers=headers)\n",
    "    return response"
   ]
  },
  {
   "cell_type": "code",
   "execution_count": null,
   "metadata": {},
   "outputs": [],
   "source": [
    "response = get_sitemap(host)\n",
    "if response.status_code != 200:\n",
    "    print(f\"ERROR {response.status_code}\")\n",
    "xml_content = response.content"
   ]
  },
  {
   "cell_type": "code",
   "execution_count": null,
   "metadata": {},
   "outputs": [],
   "source": [
    "xml_links = extract_links(xml_content)\n",
    "print(len(xml_links))\n",
    "print(xml_links[2])"
   ]
  },
  {
   "cell_type": "code",
   "execution_count": null,
   "metadata": {},
   "outputs": [],
   "source": [
    "for url in xml_links:\n",
    "    path_file =  get_path(url)\n",
    "    print(path_file)\n",
    "    if os.path.exists(path_file):\n",
    "        continue\n",
    "    status_code, html = get_page(url, delay_seconds)\n",
    "    if status_code != 200:\n",
    "        print(\"Error!\", status_code , url)\n",
    "        continue\n",
    "    save_page(path_file,url,html)\n",
    "    \n",
    "print(\"End\")"
   ]
  },
  {
   "cell_type": "markdown",
   "metadata": {},
   "source": [
    "## Load"
   ]
  },
  {
   "cell_type": "code",
   "execution_count": null,
   "metadata": {},
   "outputs": [],
   "source": [
    "# config\n",
    "# input_dir is now crawl_dir, and output_dir is now load_dir, and output_filename is now load_filename\n",
    "load_dir = f'../data/load/{source}/'\n",
    "today = datetime.today().strftime('%Y-%m-%d')\n",
    "load_filename = os.path.join(load_dir, f\"{today}.jsonl\")\n",
    "\n",
    "if not os.path.exists(load_dir):\n",
    "    os.makedirs(load_dir)"
   ]
  },
  {
   "cell_type": "code",
   "execution_count": null,
   "metadata": {},
   "outputs": [],
   "source": [
    "loader = Loader(load_redeemer, crawl_dir)\n",
    "docs = loader.load(verbose=True)\n",
    "len(docs)"
   ]
  },
  {
   "cell_type": "code",
   "execution_count": null,
   "metadata": {},
   "outputs": [],
   "source": [
    "print(docs[0].metadata)\n",
    "print(docs[0].page_content)"
   ]
  },
  {
   "cell_type": "code",
   "execution_count": null,
   "metadata": {},
   "outputs": [],
   "source": [
    "save_docs_to_jsonl(docs, load_filename)"
   ]
  },
  {
   "cell_type": "markdown",
   "metadata": {},
   "source": [
    "# Split loaded documents from Redeemer of Israel"
   ]
  },
  {
   "cell_type": "code",
   "execution_count": null,
   "metadata": {},
   "outputs": [],
   "source": [
    "# configure\n",
    "# input_path is now load_filename, output_dir is now split_dir, and output filename is now split_filename\n",
    "split_dir = f'../data/split/{source}/'\n",
    "today = datetime.today().strftime('%Y-%m-%d')\n",
    "# output filename is now split_filename\n",
    "split_filename = os.path.join(split_dir, f\"{today}.jsonl\")\n",
    "\n",
    "if not os.path.exists(split_dir):\n",
    "    os.makedirs(split_dir)"
   ]
  },
  {
   "cell_type": "markdown",
   "metadata": {},
   "source": [
    "## Load documents"
   ]
  },
  {
   "cell_type": "code",
   "execution_count": null,
   "metadata": {},
   "outputs": [],
   "source": [
    "docs = load_docs_from_jsonl(load_filename)\n",
    "len(docs)"
   ]
  },
  {
   "cell_type": "markdown",
   "metadata": {},
   "source": [
    "## Create splits"
   ]
  },
  {
   "cell_type": "code",
   "execution_count": null,
   "metadata": {},
   "outputs": [],
   "source": [
    "text_splitter = MarkdownSyntacticEmbeddingSplitter()"
   ]
  },
  {
   "cell_type": "code",
   "execution_count": null,
   "metadata": {},
   "outputs": [],
   "source": [
    "splits = text_splitter.split_documents(docs, verbose=True)\n",
    "len(splits)"
   ]
  },
  {
   "cell_type": "code",
   "execution_count": null,
   "metadata": {},
   "outputs": [],
   "source": [
    "for ix, split in enumerate(splits[:10]):\n",
    "    print(ix, split.metadata[\"url\"], split.metadata[\"title\"])\n",
    "    print(split.page_content)\n",
    "    print(\"\\n!!! SPLIT !!!\\n\")"
   ]
  },
  {
   "cell_type": "markdown",
   "metadata": {},
   "source": [
    "## Save splits "
   ]
  },
  {
   "cell_type": "code",
   "execution_count": null,
   "metadata": {},
   "outputs": [],
   "source": [
    "save_docs_to_jsonl(splits, split_filename)"
   ]
  },
  {
   "cell_type": "code",
   "execution_count": null,
   "metadata": {},
   "outputs": [],
   "source": [
    "print(len(docs), len(splits))"
   ]
  }
 ],
 "metadata": {
  "kernelspec": {
   "display_name": "models",
   "language": "python",
   "name": "models"
  },
  "language_info": {
   "codemirror_mode": {
    "name": "ipython",
    "version": 3
   },
   "file_extension": ".py",
   "mimetype": "text/x-python",
   "name": "python",
   "nbconvert_exporter": "python",
   "pygments_lexer": "ipython3",
   "version": "3.10.0"
  }
 },
 "nbformat": 4,
 "nbformat_minor": 4
}
